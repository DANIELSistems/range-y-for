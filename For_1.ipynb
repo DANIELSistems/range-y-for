{
  "nbformat": 4,
  "nbformat_minor": 0,
  "metadata": {
    "colab": {
      "provenance": [],
      "authorship_tag": "ABX9TyOYSfgFf38RH7KIXgdahvnc",
      "include_colab_link": true
    },
    "kernelspec": {
      "name": "python3",
      "display_name": "Python 3"
    },
    "language_info": {
      "name": "python"
    }
  },
  "cells": [
    {
      "cell_type": "markdown",
      "metadata": {
        "id": "view-in-github",
        "colab_type": "text"
      },
      "source": [
        "<a href=\"https://colab.research.google.com/github/DANIELSistems/range-y-for/blob/main/For_1.ipynb\" target=\"_parent\"><img src=\"https://colab.research.google.com/assets/colab-badge.svg\" alt=\"Open In Colab\"/></a>"
      ]
    },
    {
      "cell_type": "markdown",
      "source": [
        "ESTRUCTURA REPETITIVA FOR"
      ],
      "metadata": {
        "id": "w8f1_DLMTNAQ"
      }
    },
    {
      "cell_type": "code",
      "execution_count": null,
      "metadata": {
        "colab": {
          "base_uri": "https://localhost:8080/"
        },
        "id": "iE3uvn5iSEsF",
        "outputId": "58898a9c-6fd1-45e6-e269-55b1bf306dc4"
      },
      "outputs": [
        {
          "output_type": "stream",
          "name": "stdout",
          "text": [
            "Bienvenidos a google colaboratory \n",
            "La suma es: 55\n",
            "[1, 2, 3, 4, 5, 6, 7, 8, 9, 10]\n"
          ]
        }
      ],
      "source": [
        "print(\"Bienvenidos a google colaboratory \")\n",
        "\n",
        "#Programa numero 1 instruccion FOR\n",
        "##mostrar la suma de los 10 primeros numeros naturales\n",
        "\n",
        "#input\n",
        "suma = 0\n",
        "serie = list(range(1,11))\n",
        "for i in range(1,11):\n",
        "  suma = suma + i\n",
        "\n",
        "#processing\n",
        "\n",
        "print(\"La suma es: \" + str(suma))\n",
        "print(serie)\n",
        "\n",
        "#output"
      ]
    },
    {
      "cell_type": "markdown",
      "source": [
        "# QUE ES RANGE\n",
        "\n",
        "Uno de las iteraciones mas comunes que se realizan, es la de iterar un número entre por ejemplo 0 y n. Si ya programas, estoy seguro de que estas cansado de escribir esto, aunque sea en otro lenguaje. Pongamos que queremos iterar una variable i de 0 a 5. Haciendo uso de lo que hemos visto anteriormente, podríamos hacer lo siguiente.\n",
        "\n",
        "Se pueden generar también secuencias inversas, empezando por un número mayor y terminando en uno menor, pero para ello el salto deberá ser negativo.\n",
        "\n",
        "for i in range (5, 0, -1):\n",
        "\n",
        "    print(i) #5,4,3,2,1\n",
        "\n",
        "# QUE ES FOR EN PYTHON\n",
        "\n",
        "\n",
        "En Python, el bucle o ciclo for se utiliza para iterar sobre una objeto iterable y ejecutar un bloque de código para cada elemento en la secuencia de dicho objeto. Donde: Elemento es la variable que toma el valor de cada elemento en la secuencia. Iterable es un objeto iterable.\n",
        "\n"
      ],
      "metadata": {
        "id": "cGEODcD1WNDF"
      }
    },
    {
      "cell_type": "code",
      "source": [
        "#Ejercicio No. 2:mostrar los numeros del 1 al 10, sin utilizar instrucciones repetitivas\n",
        "print(1)\n",
        "print(2)\n",
        "print(3)\n",
        "print(4)\n",
        "print(5)\n",
        "print(6)\n",
        "print(7)\n",
        "print(8)\n",
        "print(9)\n",
        "print(10)"
      ],
      "metadata": {
        "id": "_GwPDhYYRsC_"
      },
      "execution_count": null,
      "outputs": []
    },
    {
      "cell_type": "code",
      "source": [
        "#Ejercicio No 3 :utilizando la instruccion repetitiva while\n",
        "\n",
        "i=1\n",
        "while (i <=10):\n",
        "  print(i)\n",
        "  i= i+1"
      ],
      "metadata": {
        "id": "0XrAO0NuS-Dp"
      },
      "execution_count": null,
      "outputs": []
    },
    {
      "cell_type": "code",
      "source": [
        "#Ejercicio No 4: mostrar los numeros del 1 al 10,usando la instruccion for y la funcion range\n",
        "\n",
        "for i in range(1,11):\n",
        "  print(i)"
      ],
      "metadata": {
        "id": "9J3nj-RNS-hs"
      },
      "execution_count": null,
      "outputs": []
    },
    {
      "cell_type": "code",
      "source": [
        "#Ejercicio No. 5: mostrar los numeros del 1 al 10,usando la instruccion for y una lista\n",
        "\n",
        "mi_lista = [1,2,3,4,5,6,7,8,9,10]\n",
        "for i in mi_lista:\n",
        "  print(i)"
      ],
      "metadata": {
        "id": "-sT3olrHTWFZ"
      },
      "execution_count": null,
      "outputs": []
    },
    {
      "cell_type": "code",
      "source": [
        "#Ejercicio No 6: mostrar una frase 10 veces,utilizando la instruccion for y una lista\n",
        "\n",
        "mi_lista=[1,2,3,4,5,6,7,8,9,10]\n",
        "for i in mi_lista:\n",
        "  print(f\"{i}Guanenta 200 años\")\n"
      ],
      "metadata": {
        "id": "sbVS9_o4US2G"
      },
      "execution_count": null,
      "outputs": []
    },
    {
      "cell_type": "code",
      "source": [
        "#Ejercicio No. 7: mostrar la silaba inicial de los dias de la semana,usando for y una lista\n",
        "dias_semana = [\"lu\",\"ma\",\"mi\",\"ju\",\"vi\"]\n",
        "for i in dias_semana:\n",
        "  print(i)"
      ],
      "metadata": {
        "id": "92C6BYgpVRL2"
      },
      "execution_count": null,
      "outputs": []
    },
    {
      "cell_type": "code",
      "source": [
        "#Ejercicio No. 8: mostrar una lista de diferentes tipos de datos,usando for\n",
        "mi_listica = [1,3.14,9,true,\"NO SE\"]\n",
        "for i in mi_listica:\n",
        "  print(i)"
      ],
      "metadata": {
        "id": "GIGdP_saV9hr"
      },
      "execution_count": null,
      "outputs": []
    },
    {
      "cell_type": "code",
      "source": [
        "#Ejercicio No. 9:ingrese su nombre letra por letra, usando for\n",
        "\n",
        "Nombre=input(\"Digite su nombre: \")\n",
        "\n",
        "for i in Nombre:\n",
        "  print(i)\n"
      ],
      "metadata": {
        "id": "GWRB_MTtW9pa"
      },
      "execution_count": null,
      "outputs": []
    },
    {
      "cell_type": "code",
      "source": [
        "#Ejercicio No. 10: aparece un asterizco en la letra que usted seleccione\n",
        "#reemplazando la e con un asterizco\n",
        "\n",
        "nombre=input(\"Digite su nombre: \")\n",
        "\n",
        "\n",
        "for i in nombre:\n",
        "  if i ==\"e\":\n",
        "   print(\"*\")\n",
        "  else:\n",
        "    print(i)\n",
        "\n"
      ],
      "metadata": {
        "id": "G81Std1fY4KV"
      },
      "execution_count": null,
      "outputs": []
    },
    {
      "cell_type": "code",
      "source": [
        "#Ejercicio No.11:ingresar su nombre y mostrarlo letra por letra en mayuscula, usando for\n",
        "\n",
        "nombre=input(\"Digite su nombre: \")\n",
        "\n",
        "for i in nombre:\n",
        "  print(i.upper())"
      ],
      "metadata": {
        "id": "zuYSa4h6bUrz"
      },
      "execution_count": null,
      "outputs": []
    },
    {
      "cell_type": "code",
      "source": [
        "#Ejercicio No. 12 Dada la siguiente lista de números [20,21,30,41,50,51,20], mostrar en pantalla solo los que no terminan en uno (1).\n",
        "\n",
        "\n",
        "\n",
        "mi_lista = [20,21,30,41,50,51,20]\n",
        "\n",
        "for i in mi_lista:\n",
        "  if i % 10 != 1:\n",
        "   print(i)\n",
        "\n"
      ],
      "metadata": {
        "id": "W1PePbT5GPvN"
      },
      "execution_count": null,
      "outputs": []
    },
    {
      "cell_type": "code",
      "source": [
        "#Ejercicion No. 13: Mostrar mil veces la palabra \"Programación\"\n",
        "\n",
        "\n",
        "#input\n",
        "\n",
        "nombre=(\"programacion\")\n",
        "\n",
        "#processing\n",
        "\n",
        "i=1\n",
        "while (i<=1000):\n",
        "  print(nombre)\n",
        "  i= i+1\n",
        "\n",
        "\n",
        "\n",
        "\n",
        "\n"
      ],
      "metadata": {
        "id": "5etzJRrCMsMr"
      },
      "execution_count": null,
      "outputs": []
    },
    {
      "cell_type": "code",
      "source": [
        "#Ejercicio No. 14 Del conjunto de cadenas [\"E\", \"F\", \"M\", \"A\"]\n",
        "##que corresponde a las iniciales de los 4 primeros meses del año, mostrar el nombre completo de dichos meses.\n",
        "\n",
        "\n",
        "\n",
        "meses =[\"e\",\"f\",\"m\",\"a\",]\n",
        "\n",
        "for meses in meses:\n",
        "  if meses == \"e\":\n",
        "    print(\"enero\")\n",
        "\n",
        "  elif meses == \"f\":\n",
        "    print(\"febrero\")\n",
        "\n",
        "  elif meses == \"m\":\n",
        "    print(\"marzo\")\n",
        "\n",
        "  elif meses == \"a\":\n",
        "    print(\"abril\")"
      ],
      "metadata": {
        "id": "FdvbE2w7TmRE"
      },
      "execution_count": null,
      "outputs": []
    },
    {
      "cell_type": "code",
      "source": [
        "#Ejercicio No. 15: Leer un texto y determinar cuántas veces dicho texto contiene cada una de las vocales en minúscula y mayúscula.\n",
        "\n",
        "texto=input(\"ingrese el texto: \")\n",
        "minuscula=(\"a\",\"e\",\"i\",\"o\",\"u\")\n",
        "mayuscula=(\"A\",\"E\",\"I\",\"O\",\"U\")\n",
        "\n",
        "a=0\n",
        "e=0\n",
        "x=0\n",
        "o=0\n",
        "u=0\n",
        "A=0\n",
        "E=0\n",
        "I=0\n",
        "O=0\n",
        "U=0\n",
        "\n",
        "for i in texto:\n",
        "  if i==\"a\":\n",
        "    a+= 1\n",
        "  elif i==\"e\":\n",
        "    e+= 1\n",
        "  elif i==\"i\":\n",
        "    x+= 1\n",
        "  elif i==\"o\":\n",
        "    o+= 1\n",
        "  elif i==\"u\":\n",
        "    u+= 1\n",
        "  elif i==\"A\":\n",
        "    A+= 1\n",
        "  elif i==\"E\":\n",
        "    E+= 1\n",
        "  elif i==\"I\":\n",
        "    I+= 1\n",
        "  elif i==\"O\":\n",
        "    O+= 1\n",
        "  elif i==\"U\":\n",
        "    U+= 1\n",
        "\n",
        "print(\"Hay\",a,\"a\",\"en el texto\")\n",
        "print(\"Hay\",e,\"e\",\"en el texto\")\n",
        "print(\"Hay\",x,\"i\",\"en el texto\")\n",
        "print(\"Hay\",o,\"o\",\"en el texto\")\n",
        "print(\"Hay\",u,\"u\",\"en el texto\")\n",
        "print(\"Hay\",A,\"A\",\"en el texto\")\n",
        "print(\"Hay\",E,\"E\",\"en el texto\")\n",
        "print(\"Hay\",I,\"I\",\"en el texto\")\n",
        "print(\"Hay\",O,\"O\",\"en el texto\")\n",
        "print(\"Hay\",U,\"U\",\"en el texto\")\n"
      ],
      "metadata": {
        "id": "uxoodWnrXN_x"
      },
      "execution_count": null,
      "outputs": []
    },
    {
      "cell_type": "markdown",
      "source": [
        "#EJERCICIO No. 16\n",
        "\n",
        "Consulte cómo se representa en un diagrama de flujo la instrucción repetitiva for.\n",
        "\n",
        "\n",
        "\n",
        "\n",
        "\n",
        "En un diagrama de flujo, la instrucción repetitiva for se representa generalmente con un símbolo de inicio de bucle, seguido por una caja que contiene la condición inicial, la condición de continuación y el incremento o decremento del contador, si corresponde. Luego, dentro del bucle, se colocan las acciones que se repetirán mientras la condición se cumpla.\n",
        "\n",
        "1.La inicialización del contador se realiza antes de entrar al bucle.\n",
        "\n",
        "2.La condición de bucle se evalúa antes de cada iteración.\n",
        "\n",
        "3.Las acciones dentro del bucle se ejecutan mientras la condición de bucle se cumple.\n",
        "\n",
        "4.Después de cada iteración, el contador se incrementa o decrementa.\n",
        "\n",
        "5.Cuando la condición de bucle ya no se cumple, el flujo sale del bucle y continúa con el resto del programa.\n",
        "\n",
        "\n"
      ],
      "metadata": {
        "id": "ENqzybUpjjJ-"
      }
    },
    {
      "cell_type": "code",
      "source": [
        "#Ejercicio No.17 :Leer 20 números enteros y averiguar cuántos son pares y cuántos son impares.\n",
        "\n",
        "pares=0\n",
        "impares=0\n",
        "\n",
        "for i in range(20):\n",
        "  numero = int(input(\"introduce el numero entero: \"))\n",
        "  if numero % 2 == 0:\n",
        "      pares += 1\n",
        "  else:\n",
        "    impares += 1\n",
        "\n",
        "print(\"La cantidad de numeros pares:\", pares)\n",
        "print(\"La cantidad de numros impares:\", impares)"
      ],
      "metadata": {
        "id": "E9vuEGhim30D"
      },
      "execution_count": null,
      "outputs": []
    },
    {
      "cell_type": "code",
      "source": [
        "#Ejercicio No. 18 :Programa que averigüe e imprima cuántos múltiplos de 7, y cuántos múltiplos de 9,\n",
        "## hay en los números comprendidos entre 1000 y 5000.\n",
        "\n",
        "\n",
        "multi_de_7 = 0\n",
        "multi_de_9 = 0\n",
        "\n",
        "for i in range(1000,5000):\n",
        "    if numero % 7 == 0:\n",
        "      multi_de_7 += 1\n",
        "\n",
        "    if numero % 9 ==0:\n",
        "      multi_de_9 += 1\n",
        "\n",
        "print(\"Cantidad de multiplos de 7:\", multi_de_7)\n",
        "print(\"Cantidad de multiplos de 9:\", multi_de_9)\n",
        "\n",
        "\n",
        "\n"
      ],
      "metadata": {
        "colab": {
          "base_uri": "https://localhost:8080/"
        },
        "id": "ZJp7V9gnqO4d",
        "outputId": "644bc8fc-70e0-4daf-ee9d-70637dcc3159"
      },
      "execution_count": 69,
      "outputs": [
        {
          "output_type": "stream",
          "name": "stdout",
          "text": [
            "Cantidad de multiplos de 7: 4000\n",
            "Cantidad de multiplos de 9: 4000\n"
          ]
        }
      ]
    }
  ]
}