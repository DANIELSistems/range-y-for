{
  "nbformat": 4,
  "nbformat_minor": 0,
  "metadata": {
    "colab": {
      "provenance": [],
      "authorship_tag": "ABX9TyO7IOu6BB1rym6W04nzk6ij",
      "include_colab_link": true
    },
    "kernelspec": {
      "name": "python3",
      "display_name": "Python 3"
    },
    "language_info": {
      "name": "python"
    }
  },
  "cells": [
    {
      "cell_type": "markdown",
      "metadata": {
        "id": "view-in-github",
        "colab_type": "text"
      },
      "source": [
        "<a href=\"https://colab.research.google.com/github/DANIELSistems/range-y-for/blob/main/For_1.ipynb\" target=\"_parent\"><img src=\"https://colab.research.google.com/assets/colab-badge.svg\" alt=\"Open In Colab\"/></a>"
      ]
    },
    {
      "cell_type": "markdown",
      "source": [
        "ESTRUCTURA REPETITIVA FOR"
      ],
      "metadata": {
        "id": "w8f1_DLMTNAQ"
      }
    },
    {
      "cell_type": "code",
      "execution_count": 1,
      "metadata": {
        "colab": {
          "base_uri": "https://localhost:8080/"
        },
        "id": "iE3uvn5iSEsF",
        "outputId": "58898a9c-6fd1-45e6-e269-55b1bf306dc4"
      },
      "outputs": [
        {
          "output_type": "stream",
          "name": "stdout",
          "text": [
            "Bienvenidos a google colaboratory \n",
            "La suma es: 55\n",
            "[1, 2, 3, 4, 5, 6, 7, 8, 9, 10]\n"
          ]
        }
      ],
      "source": [
        "print(\"Bienvenidos a google colaboratory \")\n",
        "\n",
        "#Programa numero 1 instruccion FOR\n",
        "##mostrar la suma de los 10 primeros numeros naturales\n",
        "\n",
        "#input\n",
        "suma = 0\n",
        "serie = list(range(1,11))\n",
        "for i in range(1,11):\n",
        "  suma = suma + i\n",
        "\n",
        "#processing\n",
        "\n",
        "print(\"La suma es: \" + str(suma))\n",
        "print(serie)\n",
        "\n",
        "#output"
      ]
    },
    {
      "cell_type": "markdown",
      "source": [
        "# QUE ES RANGE\n",
        "\n",
        "Uno de las iteraciones mas comunes que se realizan, es la de iterar un número entre por ejemplo 0 y n. Si ya programas, estoy seguro de que estas cansado de escribir esto, aunque sea en otro lenguaje. Pongamos que queremos iterar una variable i de 0 a 5. Haciendo uso de lo que hemos visto anteriormente, podríamos hacer lo siguiente.\n",
        "\n",
        "Se pueden generar también secuencias inversas, empezando por un número mayor y terminando en uno menor, pero para ello el salto deberá ser negativo.\n",
        "\n",
        "for i in range (5, 0, -1):\n",
        "\n",
        "    print(i) #5,4,3,2,1\n",
        "\n",
        "# QUE ES FOR EN PYTHON\n",
        "\n",
        "\n",
        "En Python, el bucle o ciclo for se utiliza para iterar sobre una objeto iterable y ejecutar un bloque de código para cada elemento en la secuencia de dicho objeto. Donde: Elemento es la variable que toma el valor de cada elemento en la secuencia. Iterable es un objeto iterable.\n",
        "\n"
      ],
      "metadata": {
        "id": "cGEODcD1WNDF"
      }
    }
  ]
}